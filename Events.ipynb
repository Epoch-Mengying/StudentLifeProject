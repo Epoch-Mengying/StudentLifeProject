{
 "cells": [
  {
   "cell_type": "code",
   "execution_count": 1,
   "metadata": {
    "collapsed": true
   },
   "outputs": [],
   "source": [
    "import pandas as pd\n",
    "import numpy as np\n",
    "import json"
   ]
  },
  {
   "cell_type": "code",
   "execution_count": 6,
   "metadata": {
    "collapsed": true
   },
   "outputs": [],
   "source": [
    "EMA = \"/Users/Mengying/Desktop/DataMining/Project/dataset/dataset/EMA/EMA_definition.json\""
   ]
  },
  {
   "cell_type": "code",
   "execution_count": 2,
   "metadata": {
    "collapsed": true
   },
   "outputs": [],
   "source": [
    "user0 = \"/Users/Mengying/Desktop/DataMining/Project/dataset/dataset/EMA/response/Events/Events_u00.json\""
   ]
  },
  {
   "cell_type": "code",
   "execution_count": 7,
   "metadata": {},
   "outputs": [],
   "source": [
    "with open(EMA) as f:\n",
    "    EMA_dict = json.load(f)"
   ]
  },
  {
   "cell_type": "code",
   "execution_count": 14,
   "metadata": {
    "collapsed": true
   },
   "outputs": [
    {
     "name": "stdout",
     "output_type": "stream",
     "text": [
      "Social\n",
      "Class\n",
      "Comment\n",
      "Stress\n",
      "Sleep\n",
      "Activity\n",
      "Behavior\n",
      "Exercise\n",
      "Study Spaces\n",
      "Do Campbell's jokes suck?\n",
      "Events\n",
      "Boston Bombing\n",
      "Dimensions\n",
      "Dartmouth now\n",
      "Dining Halls\n",
      "Lab\n",
      "Mood\n",
      "Mood 2\n",
      "Cancelled Classes\n",
      "Dimensions protestors\n",
      "Mood 1\n",
      "Class 2\n",
      "Administration's response\n",
      "Green Key 2\n",
      "Green Key 1\n"
     ]
    }
   ],
   "source": [
    "for entry in EMA_dict:\n",
    "    print (entry['name'])"
   ]
  },
  {
   "cell_type": "code",
   "execution_count": 15,
   "metadata": {},
   "outputs": [
    {
     "data": {
      "text/plain": [
       "{'name': 'Events',\n",
       " 'questions': [{'options': '[1]1, [2]2, [3]3, [4]4, [5]5, [6]6, [7]7, ',\n",
       "   'question_id': 'positive',\n",
       "   'question_text': \"Think About Yesterday's Events. Rate the intensity of your Most Positive Events on a scale ranging from 1 (very weak)  to 7 (very intense).\"},\n",
       "  {'options': '[1]1, [2]2, [3]3, [4]4, [5]5, [6]6, [7]7, ',\n",
       "   'question_id': 'negative',\n",
       "   'question_text': 'Rate the intensity of your Most Negative Events on a scale.'},\n",
       "  {'options': '',\n",
       "   'question_id': 'pevent',\n",
       "   'question_text': 'What was the positive event (single word or short comment)?'},\n",
       "  {'options': '',\n",
       "   'question_id': 'nevent',\n",
       "   'question_text': 'What was the negative event?'},\n",
       "  {'options': '', 'question_id': 'location', 'question_text': ''}]}"
      ]
     },
     "execution_count": 15,
     "metadata": {},
     "output_type": "execute_result"
    }
   ],
   "source": [
    "EMA_dict[10]"
   ]
  },
  {
   "cell_type": "code",
   "execution_count": 3,
   "metadata": {
    "collapsed": true
   },
   "outputs": [],
   "source": [
    "with open(user0) as f:\n",
    "    user0_dt = json.load(f)"
   ]
  },
  {
   "cell_type": "code",
   "execution_count": 4,
   "metadata": {},
   "outputs": [
    {
     "data": {
      "text/plain": [
       "[{'location': '43.70564911,-72.28828499',\n",
       "  'negative': '5',\n",
       "  'nevent': 'Boston bomb',\n",
       "  'pevent': 'spent good time my son',\n",
       "  'positive': '5',\n",
       "  'resp_time': 1366319163},\n",
       " {'location': '43.70538577,-72.28680987',\n",
       "  'negative': '3',\n",
       "  'nevent': 'arguing',\n",
       "  'pevent': 'run',\n",
       "  'positive': '6',\n",
       "  'resp_time': 1366688539},\n",
       " {'location': 'Unknown',\n",
       "  'negative': '7',\n",
       "  'nevent': 'Dartmouth has a problem',\n",
       "  'pevent': 'dinner',\n",
       "  'positive': '2',\n",
       "  'resp_time': 1366857765},\n",
       " {'location': '43.70272732,-72.31144391',\n",
       "  'negative': '7',\n",
       "  'nevent': 'no classes',\n",
       "  'pevent': 'no lecture\\n',\n",
       "  'positive': '2',\n",
       "  'resp_time': 1366849568},\n",
       " {'location': '43.70272732,-72.31144391',\n",
       "  'negative': '6',\n",
       "  'nevent': '',\n",
       "  'pevent': 'no lectures\\n',\n",
       "  'positive': '2',\n",
       "  'resp_time': 1366849486},\n",
       " {'location': '43.7587465,-72.32872225',\n",
       "  'negative': '4',\n",
       "  'nevent': '',\n",
       "  'pevent': '',\n",
       "  'positive': '4',\n",
       "  'resp_time': 1367123634},\n",
       " {'location': '43.7592616,-72.32910757',\n",
       "  'negative': '3',\n",
       "  'nevent': '',\n",
       "  'pevent': \"Cornell West's lecture on the inner you \",\n",
       "  'positive': '7',\n",
       "  'resp_time': 1366958989},\n",
       " {'location': '43.70388731,-72.28559842',\n",
       "  'negative': '4',\n",
       "  'nevent': '',\n",
       "  'pevent': '',\n",
       "  'positive': '4',\n",
       "  'resp_time': 1367035866},\n",
       " {'location': '43.70668268,-72.28742209',\n",
       "  'negative': '7',\n",
       "  'nevent': '',\n",
       "  'pevent': 'family dinner',\n",
       "  'positive': '3',\n",
       "  'resp_time': 1367395219},\n",
       " {'location': '48.86010115,2.34386263',\n",
       "  'negative': '6',\n",
       "  'nevent': 'tired ',\n",
       "  'pevent': 'train',\n",
       "  'positive': '3',\n",
       "  'resp_time': 1367718328},\n",
       " {'location': 'Unknown',\n",
       "  'negative': '5',\n",
       "  'nevent': 'argument',\n",
       "  'pevent': 'run',\n",
       "  'positive': '3',\n",
       "  'resp_time': 1368994476},\n",
       " {'location': 'Unknown',\n",
       "  'negative': '4',\n",
       "  'nevent': '',\n",
       "  'pevent': 'cycling\\n',\n",
       "  'positive': '4',\n",
       "  'resp_time': 1369336049},\n",
       " {'location': '43.70090859,-72.28580049',\n",
       "  'negative': '3',\n",
       "  'nevent': '',\n",
       "  'pevent': '',\n",
       "  'positive': '3',\n",
       "  'resp_time': 1369447571},\n",
       " {'location': '43.70116502,-72.28537017',\n",
       "  'negative': '4',\n",
       "  'nevent': 'colloq talk',\n",
       "  'pevent': 'squash win',\n",
       "  'positive': '3',\n",
       "  'resp_time': 1369430769},\n",
       " {'location': '38.85534805,-77.04345224',\n",
       "  'negative': '7',\n",
       "  'nevent': 'that fucking rotatiller',\n",
       "  'pevent': 'will might buy it\\n',\n",
       "  'positive': '4',\n",
       "  'resp_time': 1369523974},\n",
       " {'location': '43.73299895,-72.3167073',\n",
       "  'negative': '1',\n",
       "  'nevent': '',\n",
       "  'pevent': '',\n",
       "  'positive': '1',\n",
       "  'resp_time': 1370041212},\n",
       " {'location': '43.70575765,-72.28739513',\n",
       "  'negative': '1',\n",
       "  'nevent': '',\n",
       "  'pevent': '',\n",
       "  'positive': '1',\n",
       "  'resp_time': 1369785380},\n",
       " {'location': '43.70006541,-72.29016831',\n",
       "  'negative': '1',\n",
       "  'nevent': 'nothing',\n",
       "  'pevent': 'concert',\n",
       "  'positive': '6',\n",
       "  'resp_time': 1369955027}]"
      ]
     },
     "execution_count": 4,
     "metadata": {},
     "output_type": "execute_result"
    }
   ],
   "source": [
    "user0_dt"
   ]
  },
  {
   "cell_type": "code",
   "execution_count": null,
   "metadata": {
    "collapsed": true
   },
   "outputs": [],
   "source": []
  }
 ],
 "metadata": {
  "kernelspec": {
   "display_name": "Python 3",
   "language": "python",
   "name": "python3"
  },
  "language_info": {
   "codemirror_mode": {
    "name": "ipython",
    "version": 3
   },
   "file_extension": ".py",
   "mimetype": "text/x-python",
   "name": "python",
   "nbconvert_exporter": "python",
   "pygments_lexer": "ipython3",
   "version": "3.6.6"
  }
 },
 "nbformat": 4,
 "nbformat_minor": 2
}
